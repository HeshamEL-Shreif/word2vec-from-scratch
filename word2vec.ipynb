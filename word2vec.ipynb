{
 "cells": [
  {
   "cell_type": "markdown",
   "id": "0",
   "metadata": {
    "colab_type": "text",
    "id": "view-in-github"
   },
   "source": [
    "<a href=\"https://colab.research.google.com/github/HeshamEL-Shreif/word2vec-from-scratch/blob/main/word2vec.ipynb\" target=\"_parent\"><img src=\"https://colab.research.google.com/assets/colab-badge.svg\" alt=\"Open In Colab\"/></a>"
   ]
  },
  {
   "cell_type": "markdown",
   "id": "1",
   "metadata": {
    "id": "8Z4mYdWV9ob4"
   },
   "source": [
    "# install dependancies"
   ]
  },
  {
   "cell_type": "code",
   "execution_count": null,
   "id": "2",
   "metadata": {
    "id": "0PYiayz64eL-"
   },
   "outputs": [],
   "source": [
    "! pip install datasets"
   ]
  },
  {
   "cell_type": "markdown",
   "id": "3",
   "metadata": {
    "id": "z9sjmSFX9s4D"
   },
   "source": [
    "# Imports"
   ]
  },
  {
   "cell_type": "code",
   "execution_count": null,
   "id": "4",
   "metadata": {
    "id": "3b90d4f1"
   },
   "outputs": [],
   "source": [
    "import torch\n",
    "import torch.nn as nn\n",
    "import transformers\n",
    "from huggingface_hub import notebook_login\n",
    "from datasets import load_dataset\n",
    "from tokenizers import Tokenizer\n",
    "from tokenizers.models import WordLevel\n",
    "from tokenizers.pre_tokenizers import Whitespace\n",
    "from tokenizers.trainers import WordLevelTrainer\n",
    "from torch.utils.data import DataLoader, Dataset\n",
    "from tqdm import tqdm\n",
    "import random\n",
    "from tqdm import tqdm\n",
    "import torch.nn.functional as F"
   ]
  },
  {
   "cell_type": "code",
   "execution_count": null,
   "id": "5",
   "metadata": {
    "colab": {
     "base_uri": "https://localhost:8080/",
     "height": 328,
     "referenced_widgets": [
      "eef5f5cfb4f642f3b3851098a4602c9f",
      "0cb9a4f8104a4b6086a61292c33b0b80",
      "224e23c4d2df46dda176f628998f04ba",
      "dcc6bf7d18dc45859c3c18723b34b068",
      "9c12574a41ea49eb9b1ca96043871c47",
      "e39febd09b6c430fabb441d82bf24745",
      "4e17d66c58874901be6cc5ad925d34c1",
      "f6d61aa6f4ee4d6bb9fc0a7793ddfa58",
      "425a081e91c84d4eace8ef2bc809d6a6",
      "7a9625aaafa44e268f330b2c6733eb95",
      "991dba3e80a844bab8bd5e46fffdb939",
      "4054ec6853f342d88712f2d5a33febc9",
      "4d1735249e0b4f5f9fc3a24939722e7d",
      "c9d3e80b1df94a27b363d5e6d6e81220",
      "8b6cb7455aed4d3a89d21e569c8fca50",
      "82816247e6dd46a5a33317ced7de952a",
      "e6bac82263cf4387ba324cfb238500b3"
     ]
    },
    "id": "AYHQS2vL44tV",
    "outputId": "e445f492-2fe6-4437-d31f-07fa15a217ca"
   },
   "outputs": [],
   "source": [
    "notebook_login()"
   ]
  },
  {
   "cell_type": "markdown",
   "id": "6",
   "metadata": {
    "id": "lHMsqXxw9_Yb"
   },
   "source": [
    "# Load Dataset"
   ]
  },
  {
   "cell_type": "code",
   "execution_count": null,
   "id": "7",
   "metadata": {
    "colab": {
     "base_uri": "https://localhost:8080/",
     "height": 295,
     "referenced_widgets": [
      "572c8b1342264ad4a2d1d3ebe85ce525",
      "9c4337926d7e44eb974ef994f6356440",
      "a04ee1ed07dd45ff9a2a58d3f4bf497c",
      "5b749bbbbbb446f6815d6e71b4fb03d2",
      "394e13d21a4541d6b5842623afc86b35",
      "c5f0eace66024c378141142e3b2fdc94",
      "dc898dfdf47a4c52844579dd606955c4",
      "b41fb180bd7b4777ad2820146c837cac",
      "3b634037d325487e9c1dcec165d339f9",
      "fa6bd5b6ea4a42ff893803bf539c0084",
      "01212033b16c488da38e7827edcf03f0",
      "f7c0922e57114dd181c403ed75db0465",
      "091dc9da5f3148fa9c3317150e186e27",
      "e02a0c7f396f40bcac7f5fb5eb4fe1d9",
      "9bcc5a77b3ca4ecaa23b0ee84ff31d79",
      "d915f3c7c0b5428da8909c1acf31e945",
      "ff9b63147e204487823c1cbd5faeddb5",
      "4bb72527b1214d8282c1b60f965a7db7",
      "31249621ac5649caae8aa14e0f6162bb",
      "cde1fbfe4523496bb90509668876d0bc",
      "b10d51182cd1411eab2d3347ae0a9aed",
      "4c8a72c1595e456595aefc7d0959d22c",
      "210989e7dbcf4e8e9efb2e390a9d29b3",
      "63098a36477e421f9e35d54e45206ef3",
      "8ce7172e5c0c42278b1a636fc49d2a7a",
      "3a38b7ab6b604a2cb3d5e4fc8e84231d",
      "9c65b65349a643c2beb7d1a10208d98b",
      "07a0116e61ac476d8c82e49c8f9f53fc",
      "6bb8137c24a9405a8dce875ce30fc188",
      "b2354551e29b4364b83c2ed6eb9ea4d3",
      "c5a1d55fefb0428ba1fbe8ec7778ba94",
      "1631e84903b549cfba25df62ae00709a",
      "ce426d5179524c6b8e111d9192457d4d",
      "b6beb9fa1d484022a610acdb631d4b52",
      "ba362b36a37740b084b3a4194f4126af",
      "92d06d28131647a2a66f39cd07714d87",
      "3e54756be579476ba7542ea4dffde7b8",
      "b3a139e8b8354d53ae75ab37f7249103",
      "d0d422e6841047acbe7f0cb650ff741a",
      "386bbadf9fa1445dae35d990418d99da",
      "789902634680485faa5d4c071899dac6",
      "a2b87b18e3654500a957a42355df8c66",
      "cf5f993e4a3243cda11c1c3d7aff5090",
      "9f46c3686cfb4403b6f5485c6e7c4c1e",
      "87504f732f0a4086a751f6f7261edb5a",
      "95ab833fdc974f3398a4c369a003338b",
      "3d2e26c8cdb940f0bc0782c145fcef8e",
      "a2066cec08a440bc8829884b70172146",
      "c1248d6209f94fb0a3d0ed6a66948391",
      "fd97c7f25f59482988b8f4598fa6f566",
      "1d83d1ed52b44843850f766ce6d8dff6",
      "96392042206c46b3be622180939c7d99",
      "09115292b79a4becb9e66bcac8ed0482",
      "d7453f38f916425b99de927bbc3dc2f6",
      "490efc2e78f84feb87373183d9154748"
     ]
    },
    "id": "_jQ9yJ_P4d1N",
    "outputId": "ef019615-a8c6-49e5-c1dc-812ac59df3fd"
   },
   "outputs": [],
   "source": [
    "dataset = load_dataset(\"ag_news\")"
   ]
  },
  {
   "cell_type": "code",
   "execution_count": null,
   "id": "8",
   "metadata": {
    "colab": {
     "base_uri": "https://localhost:8080/"
    },
    "id": "9d102a35",
    "outputId": "76ff80aa-0607-4b81-a578-602bf532c060"
   },
   "outputs": [],
   "source": [
    "print(dataset)"
   ]
  },
  {
   "cell_type": "markdown",
   "id": "9",
   "metadata": {
    "id": "TewTbiaV-CjB"
   },
   "source": [
    "## Get a subset aas the corpus"
   ]
  },
  {
   "cell_type": "code",
   "execution_count": null,
   "id": "10",
   "metadata": {
    "id": "ENZbJYgo6f8i"
   },
   "outputs": [],
   "source": [
    "corpus = dataset[\"train\"][\"text\"][:5000]"
   ]
  },
  {
   "cell_type": "markdown",
   "id": "11",
   "metadata": {
    "id": "KJHaSauV-GeT"
   },
   "source": [
    "# Build Tokenizer"
   ]
  },
  {
   "cell_type": "code",
   "execution_count": null,
   "id": "12",
   "metadata": {
    "id": "Tx8_ZJzR6i0W"
   },
   "outputs": [],
   "source": [
    "tokenizer = Tokenizer(WordLevel(unk_token=\"[UNK]\"))\n",
    "tokenizer.pre_tokenizer = Whitespace()\n",
    "trainer = WordLevelTrainer(vocab_size=5000, special_tokens=[\"[UNK]\", \"[PAD]\"])"
   ]
  },
  {
   "cell_type": "code",
   "execution_count": null,
   "id": "13",
   "metadata": {
    "id": "tNFoLBF96vui"
   },
   "outputs": [],
   "source": [
    "tokenizer.train_from_iterator(corpus, trainer)"
   ]
  },
  {
   "cell_type": "code",
   "execution_count": null,
   "id": "14",
   "metadata": {
    "colab": {
     "base_uri": "https://localhost:8080/"
    },
    "id": "79wkHRHV64SR",
    "outputId": "ed311da8-7a23-4388-8e08-0195ac5376a4"
   },
   "outputs": [],
   "source": [
    "output = tokenizer.encode(corpus[0])\n",
    "print(output.tokens)\n",
    "print(output.ids)"
   ]
  },
  {
   "cell_type": "code",
   "execution_count": null,
   "id": "15",
   "metadata": {
    "id": "-jX1G-4v7wWW"
   },
   "outputs": [],
   "source": [
    "tokenized_text = [tokenizer.encode(sentence).ids for sentence in corpus]"
   ]
  },
  {
   "cell_type": "code",
   "execution_count": null,
   "id": "16",
   "metadata": {
    "colab": {
     "base_uri": "https://localhost:8080/"
    },
    "id": "jmLLBxz3700D",
    "outputId": "44ecd8ad-2136-49a0-b7c4-214532127171"
   },
   "outputs": [],
   "source": [
    "print(tokenized_text[0])"
   ]
  },
  {
   "cell_type": "code",
   "execution_count": null,
   "id": "17",
   "metadata": {
    "id": "iU7_rs7b-laj"
   },
   "outputs": [],
   "source": [
    "vocab = tokenizer.get_vocab()"
   ]
  },
  {
   "cell_type": "markdown",
   "id": "18",
   "metadata": {
    "id": "agPLV60S-LxJ"
   },
   "source": [
    "# Get Skip-Gram Pairs"
   ]
  },
  {
   "cell_type": "code",
   "execution_count": null,
   "id": "19",
   "metadata": {
    "id": "tHD_OcZr6_xB"
   },
   "outputs": [],
   "source": [
    "def get_skip_gram_pairs(tokenized_text, window_size):\n",
    "    pairs = []\n",
    "    for sentence in tokenized_text:\n",
    "        for i in range(len(sentence)):\n",
    "            for j in range(max(0, i - window_size), min(len(sentence), i + window_size + 1)):\n",
    "                if i != j:\n",
    "                    pairs.append((sentence[i], sentence[j]))\n",
    "    return pairs"
   ]
  },
  {
   "cell_type": "code",
   "execution_count": null,
   "id": "20",
   "metadata": {
    "id": "0_HnlsMe8CAF"
   },
   "outputs": [],
   "source": [
    "pairs = get_skip_gram_pairs(tokenized_text, 2)"
   ]
  },
  {
   "cell_type": "code",
   "execution_count": null,
   "id": "21",
   "metadata": {
    "colab": {
     "base_uri": "https://localhost:8080/"
    },
    "id": "BQWagsRR8ER2",
    "outputId": "32c6f867-0cfa-44aa-aa97-f706826e6a78"
   },
   "outputs": [],
   "source": [
    "print(pairs[0:10])"
   ]
  },
  {
   "cell_type": "markdown",
   "id": "22",
   "metadata": {
    "id": "O6Ytex0X-O1e"
   },
   "source": [
    "# Skip-gram dataset"
   ]
  },
  {
   "cell_type": "code",
   "execution_count": null,
   "id": "23",
   "metadata": {
    "id": "dwdXE-xm8IOX"
   },
   "outputs": [],
   "source": [
    "class SkipGram_Data(Dataset):\n",
    "  def __init__(self, pairs):\n",
    "    self.pairs = pairs\n",
    "  def __len__(self):\n",
    "    return len(self.pairs)\n",
    "  def __getitem__(self, idx):\n",
    "    return torch.tensor(self.pairs[idx][0]), torch.tensor(self.pairs[idx][1])"
   ]
  },
  {
   "cell_type": "markdown",
   "id": "24",
   "metadata": {
    "id": "pwRfMrh6-S8z"
   },
   "source": [
    "## Get negative samples"
   ]
  },
  {
   "cell_type": "code",
   "execution_count": null,
   "id": "25",
   "metadata": {
    "id": "jRUVa_ds8l_m"
   },
   "outputs": [],
   "source": [
    "def sample_negative_words(batch_size, vocab_size, num_negatives, device, true_context):\n",
    "    negative_samples = []\n",
    "    for _ in range(batch_size):\n",
    "        negatives = []\n",
    "        while len(negatives) < num_negatives:\n",
    "            rand_word = random.randint(0, vocab_size - 1)\n",
    "            if rand_word != true_context[_].item():\n",
    "                negatives.append(rand_word)\n",
    "        negative_samples.extend(negatives)\n",
    "    return torch.tensor(negative_samples, device=device)"
   ]
  },
  {
   "cell_type": "markdown",
   "id": "26",
   "metadata": {
    "id": "hDQ7u7aG-Z0H"
   },
   "source": [
    "# Model Class"
   ]
  },
  {
   "cell_type": "code",
   "execution_count": null,
   "id": "27",
   "metadata": {
    "id": "wqqo5MUq955m"
   },
   "outputs": [],
   "source": [
    "class Word2Vec(nn.Module):\n",
    "    def __init__(self, vocab_size, embedding_dim):\n",
    "        super().__init__()\n",
    "        self.in_embed = nn.Embedding(vocab_size, embedding_dim)\n",
    "        self.out_embed = nn.Embedding(vocab_size, embedding_dim)\n",
    "\n",
    "    def forward(self, center_words, context_words):\n",
    "        center_embed = self.in_embed(center_words)\n",
    "        context_embed = self.out_embed(context_words)\n",
    "        scores = torch.sum(center_embed * context_embed, dim=1)\n",
    "        return scores\n",
    "\n",
    "    def get_embeddings(self):\n",
    "        return self.in_embed.weight.data"
   ]
  },
  {
   "cell_type": "markdown",
   "id": "28",
   "metadata": {
    "id": "w2-e0pbCCB5r"
   },
   "source": [
    "# Initiate dataset"
   ]
  },
  {
   "cell_type": "code",
   "execution_count": null,
   "id": "29",
   "metadata": {
    "id": "KckRwRS48fzX"
   },
   "outputs": [],
   "source": [
    "dataset = SkipGram_Data(pairs)\n",
    "dataloader = DataLoader(dataset, batch_size=4096, shuffle=True)"
   ]
  },
  {
   "cell_type": "code",
   "execution_count": null,
   "id": "30",
   "metadata": {
    "id": "jbTQfq23CIcc"
   },
   "outputs": [],
   "source": []
  },
  {
   "cell_type": "markdown",
   "id": "31",
   "metadata": {
    "id": "vsgFOBmSCI3u"
   },
   "source": [
    "# Set device"
   ]
  },
  {
   "cell_type": "code",
   "execution_count": null,
   "id": "32",
   "metadata": {
    "id": "GMqq5upp-g-L"
   },
   "outputs": [],
   "source": [
    "device = torch.device(\"cuda\" if torch.cuda.is_available() else \"cpu\")"
   ]
  },
  {
   "cell_type": "markdown",
   "id": "33",
   "metadata": {
    "id": "3BIDigTvCK92"
   },
   "source": [
    "# Training loop"
   ]
  },
  {
   "cell_type": "code",
   "execution_count": null,
   "id": "34",
   "metadata": {
    "id": "-7M91AubCPDX"
   },
   "outputs": [],
   "source": [
    "embedding_dim = 100\n",
    "num_negatives = 5\n",
    "vocab_size = len(vocab)\n",
    "\n",
    "model = Word2Vec(vocab_size, embedding_dim).to(device)\n",
    "optimizer = torch.optim.Adam(model.parameters(), lr=0.01)"
   ]
  },
  {
   "cell_type": "code",
   "execution_count": null,
   "id": "35",
   "metadata": {
    "colab": {
     "base_uri": "https://localhost:8080/"
    },
    "id": "7awzatQj99__",
    "outputId": "89174408-d809-4972-8298-f1b7168fb717"
   },
   "outputs": [],
   "source": [
    "for epoch in range(5):\n",
    "    total_loss = 0\n",
    "    dataloader_loop = tqdm(dataloader, desc=f\"Epoch {epoch+1}\", leave=False)\n",
    "\n",
    "    for center, pos_context in dataloader_loop:\n",
    "        center = center.to(device)\n",
    "        pos_context = pos_context.to(device)\n",
    "        batch_size = center.size(0)\n",
    "\n",
    "        pos_scores = model(center, pos_context)\n",
    "        pos_labels = torch.ones_like(pos_scores)\n",
    "\n",
    "        neg_context = sample_negative_words(batch_size, vocab_size, num_negatives, device, pos_context)\n",
    "        neg_center = center.repeat_interleave(num_negatives)\n",
    "        neg_scores = model(neg_center, neg_context)\n",
    "        neg_labels = torch.zeros_like(neg_scores)\n",
    "\n",
    "        scores = torch.cat([pos_scores, neg_scores])\n",
    "        labels = torch.cat([pos_labels, neg_labels])\n",
    "        loss = F.binary_cross_entropy_with_logits(scores, labels)\n",
    "\n",
    "        optimizer.zero_grad()\n",
    "        loss.backward()\n",
    "        optimizer.step()\n",
    "\n",
    "        total_loss += loss.item()\n",
    "        dataloader_loop.set_postfix(loss=loss.item())\n",
    "\n",
    "    print(f\"Epoch {epoch+1}: Loss = {total_loss:.4f}\")"
   ]
  },
  {
   "cell_type": "code",
   "execution_count": null,
   "id": "36",
   "metadata": {
    "id": "5TaMS2Fw-izp"
   },
   "outputs": [],
   "source": []
  }
 ],
 "metadata": {
  "accelerator": "GPU",
  "colab": {
   "gpuType": "T4",
   "include_colab_link": true,
   "provenance": []
  },
  "kernelspec": {
   "display_name": "nlp-pytorch",
   "language": "python",
   "name": "python3"
  },
  "language_info": {
   "name": "python",
   "version": "3.10.16"
  }
 },
 "nbformat": 4,
 "nbformat_minor": 5
}
